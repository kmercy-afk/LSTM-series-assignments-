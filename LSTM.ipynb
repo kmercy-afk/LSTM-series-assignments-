{
 "cells": [
  {
   "metadata": {},
   "cell_type": "markdown",
   "source": "Problem 1 - Execution of various methods",
   "id": "2431a4affc1762ea"
  },
  {
   "metadata": {
    "ExecuteTime": {
     "end_time": "2024-12-20T12:58:48.196666Z",
     "start_time": "2024-12-20T12:58:32.756825Z"
    }
   },
   "cell_type": "code",
   "source": [
    "# Loading imports\n",
    "import numpy as np\n",
    "import tensorflow as tf\n",
    "import matplotlib.pyplot as plt\n",
    "from tensorflow.keras.models import Sequential\n",
    "from tensorflow.keras.layers import Embedding, SimpleRNN, GRU, LSTM, Dense, ConvLSTM2D, GlobalAveragePooling2D\n",
    "from tensorflow.keras.datasets import imdb\n",
    "from tensorflow.keras.preprocessing.sequence import pad_sequences\n",
    "from tensorflow.keras.utils import to_categorical\n",
    "\n",
    "# Loading and pre-processing data\n",
    "# Load IMDB dataset\n",
    "max_features = 10000  # Use top 10k words\n",
    "maxlen = 100  # Limit each review to 100 words\n",
    "batch_size = 32\n",
    "\n",
    "(x_train, y_train), (x_test, y_test) = imdb.load_data(num_words=max_features)\n",
    "\n",
    "# Pad sequences to ensure uniform input size\n",
    "x_train = pad_sequences(x_train, maxlen=maxlen)\n",
    "x_test = pad_sequences(x_test, maxlen=maxlen)\n",
    "\n",
    "# Convert labels to categorical format (for binary classification)\n",
    "y_train = to_categorical(y_train)\n",
    "y_test = to_categorical(y_test)\n"
   ],
   "id": "26dc2410658662e7",
   "outputs": [],
   "execution_count": 1
  },
  {
   "metadata": {
    "ExecuteTime": {
     "end_time": "2024-12-20T12:58:48.579248Z",
     "start_time": "2024-12-20T12:58:48.501647Z"
    }
   },
   "cell_type": "code",
   "source": [
    "# Defining Model Architectures\n",
    "def create_simple_rnn_model():\n",
    "    model = Sequential()\n",
    "    model.add(Embedding(max_features, 128, input_length=maxlen))\n",
    "    model.add(SimpleRNN(128, activation='tanh'))\n",
    "    model.add(Dense(2, activation='softmax'))\n",
    "    model.compile(optimizer='adam', loss='categorical_crossentropy', metrics=['accuracy'])\n",
    "    return model\n",
    "\n",
    "def create_gru_model():\n",
    "    model = Sequential()\n",
    "    model.add(Embedding(max_features, 128, input_length=maxlen))\n",
    "    model.add(GRU(128, activation='tanh'))\n",
    "    model.add(Dense(2, activation='softmax'))\n",
    "    model.compile(optimizer='adam', loss='categorical_crossentropy', metrics=['accuracy'])\n",
    "    return model\n",
    "\n",
    "def create_lstm_model():\n",
    "    model = Sequential()\n",
    "    model.add(Embedding(max_features, 128, input_length=maxlen))\n",
    "    model.add(LSTM(128, activation='tanh'))\n",
    "    model.add(Dense(2, activation='softmax'))\n",
    "    model.compile(optimizer='adam', loss='categorical_crossentropy', metrics=['accuracy'])\n",
    "    return model\n"
   ],
   "id": "8b4a89b5f34af3f1",
   "outputs": [],
   "execution_count": 2
  },
  {
   "metadata": {
    "ExecuteTime": {
     "end_time": "2024-12-20T12:58:48.594978Z",
     "start_time": "2024-12-20T12:58:48.585335Z"
    }
   },
   "cell_type": "code",
   "source": [
    "# Define ConvLSTM2D Model (for Image-based or Video Tasks)\n",
    "def create_convlstm_model():\n",
    "    model = Sequential()\n",
    "    model.add(ConvLSTM2D(32, (3, 3), activation='relu', padding='same', input_shape=(maxlen, 1, 1, 1)))\n",
    "    model.add(GlobalAveragePooling2D())\n",
    "    model.add(Dense(2, activation='softmax'))\n",
    "    model.compile(optimizer='adam', loss='categorical_crossentropy', metrics=['accuracy'])\n",
    "    return model\n"
   ],
   "id": "1baef96552fd63f2",
   "outputs": [],
   "execution_count": 3
  },
  {
   "metadata": {
    "ExecuteTime": {
     "end_time": "2024-12-20T14:07:49.458317Z",
     "start_time": "2024-12-20T14:06:53.234549Z"
    }
   },
   "cell_type": "code",
   "source": [
    "# Training and Evaluating models\n",
    "# Create models\n",
    "simple_rnn_model = create_simple_rnn_model()\n",
    "gru_model = create_gru_model()\n",
    "lstm_model = create_lstm_model()\n",
    "\n",
    "# Train models\n",
    "epochs = 3\n",
    "\n",
    "# Train SimpleRNN\n",
    "print(\"Training SimpleRNN model...\")\n",
    "simple_rnn_model.fit(x_train, y_train, epochs=epochs, batch_size=batch_size, validation_data=(x_test, y_test))\n",
    "simple_rnn_accuracy = simple_rnn_model.evaluate(x_test, y_test)"
   ],
   "id": "2f112356299564cb",
   "outputs": [
    {
     "name": "stdout",
     "output_type": "stream",
     "text": [
      "Training SimpleRNN model...\n",
      "Epoch 1/3\n",
      "\u001B[1m281/281\u001B[0m \u001B[32m━━━━━━━━━━━━━━━━━━━━\u001B[0m\u001B[37m\u001B[0m \u001B[1m17s\u001B[0m 50ms/step - accuracy: 0.3291 - loss: 2.6836 - val_accuracy: 0.3633 - val_loss: 2.4009\n",
      "Epoch 2/3\n",
      "\u001B[1m281/281\u001B[0m \u001B[32m━━━━━━━━━━━━━━━━━━━━\u001B[0m\u001B[37m\u001B[0m \u001B[1m18s\u001B[0m 65ms/step - accuracy: 0.3507 - loss: 2.4129 - val_accuracy: 0.3589 - val_loss: 2.3838\n",
      "Epoch 3/3\n",
      "\u001B[1m281/281\u001B[0m \u001B[32m━━━━━━━━━━━━━━━━━━━━\u001B[0m\u001B[37m\u001B[0m \u001B[1m20s\u001B[0m 71ms/step - accuracy: 0.3679 - loss: 2.3674 - val_accuracy: 0.3758 - val_loss: 2.3829\n",
      "\u001B[1m71/71\u001B[0m \u001B[32m━━━━━━━━━━━━━━━━━━━━\u001B[0m\u001B[37m\u001B[0m \u001B[1m1s\u001B[0m 15ms/step - accuracy: 0.3710 - loss: 2.3628\n"
     ]
    }
   ],
   "execution_count": 3
  },
  {
   "metadata": {
    "ExecuteTime": {
     "end_time": "2024-12-20T14:09:49.284348Z",
     "start_time": "2024-12-20T14:08:04.980158Z"
    }
   },
   "cell_type": "code",
   "source": [
    "# Train GRU\n",
    "print(\"Training GRU model...\")\n",
    "gru_model.fit(x_train, y_train, epochs=epochs, batch_size=batch_size, validation_data=(x_test, y_test))\n",
    "gru_accuracy = gru_model.evaluate(x_test, y_test)\n"
   ],
   "id": "2b260ce742a71574",
   "outputs": [
    {
     "name": "stdout",
     "output_type": "stream",
     "text": [
      "Training GRU model...\n",
      "Epoch 1/3\n",
      "\u001B[1m281/281\u001B[0m \u001B[32m━━━━━━━━━━━━━━━━━━━━\u001B[0m\u001B[37m\u001B[0m \u001B[1m36s\u001B[0m 114ms/step - accuracy: 0.3983 - loss: 2.4306 - val_accuracy: 0.5530 - val_loss: 1.7374\n",
      "Epoch 2/3\n",
      "\u001B[1m281/281\u001B[0m \u001B[32m━━━━━━━━━━━━━━━━━━━━\u001B[0m\u001B[37m\u001B[0m \u001B[1m33s\u001B[0m 116ms/step - accuracy: 0.5748 - loss: 1.6271 - val_accuracy: 0.6073 - val_loss: 1.5876\n",
      "Epoch 3/3\n",
      "\u001B[1m281/281\u001B[0m \u001B[32m━━━━━━━━━━━━━━━━━━━━\u001B[0m\u001B[37m\u001B[0m \u001B[1m34s\u001B[0m 120ms/step - accuracy: 0.6364 - loss: 1.4309 - val_accuracy: 0.6211 - val_loss: 1.5187\n",
      "\u001B[1m71/71\u001B[0m \u001B[32m━━━━━━━━━━━━━━━━━━━━\u001B[0m\u001B[37m\u001B[0m \u001B[1m2s\u001B[0m 31ms/step - accuracy: 0.6392 - loss: 1.4702\n"
     ]
    }
   ],
   "execution_count": 4
  },
  {
   "metadata": {
    "ExecuteTime": {
     "end_time": "2024-12-20T14:15:57.103254Z",
     "start_time": "2024-12-20T14:14:02.043859Z"
    }
   },
   "cell_type": "code",
   "source": [
    "# Train LSTM\n",
    "print(\"Training LSTM model...\")\n",
    "lstm_model.fit(x_train, y_train, epochs=epochs, batch_size=batch_size, validation_data=(x_test, y_test))\n",
    "lstm_accuracy = lstm_model.evaluate(x_test, y_test)"
   ],
   "id": "181047c164d77e8f",
   "outputs": [
    {
     "name": "stdout",
     "output_type": "stream",
     "text": [
      "Training LSTM model...\n",
      "Epoch 1/3\n",
      "\u001B[1m281/281\u001B[0m \u001B[32m━━━━━━━━━━━━━━━━━━━━\u001B[0m\u001B[37m\u001B[0m \u001B[1m38s\u001B[0m 123ms/step - accuracy: 0.3931 - loss: 2.4982 - val_accuracy: 0.5013 - val_loss: 1.8754\n",
      "Epoch 2/3\n",
      "\u001B[1m281/281\u001B[0m \u001B[32m━━━━━━━━━━━━━━━━━━━━\u001B[0m\u001B[37m\u001B[0m \u001B[1m36s\u001B[0m 128ms/step - accuracy: 0.5392 - loss: 1.7463 - val_accuracy: 0.5583 - val_loss: 1.7284\n",
      "Epoch 3/3\n",
      "\u001B[1m281/281\u001B[0m \u001B[32m━━━━━━━━━━━━━━━━━━━━\u001B[0m\u001B[37m\u001B[0m \u001B[1m38s\u001B[0m 135ms/step - accuracy: 0.5719 - loss: 1.6043 - val_accuracy: 0.6100 - val_loss: 1.5742\n",
      "\u001B[1m71/71\u001B[0m \u001B[32m━━━━━━━━━━━━━━━━━━━━\u001B[0m\u001B[37m\u001B[0m \u001B[1m3s\u001B[0m 40ms/step - accuracy: 0.6237 - loss: 1.5347\n"
     ]
    }
   ],
   "execution_count": 5
  },
  {
   "metadata": {
    "ExecuteTime": {
     "end_time": "2024-12-20T14:23:36.580555Z",
     "start_time": "2024-12-20T14:23:36.351202Z"
    }
   },
   "cell_type": "code",
   "source": [
    "# Store accuracies for plotting\n",
    "accuracies = {\n",
    "    \"SimpleRNN\": simple_rnn_accuracy,\n",
    "    \"GRU\": gru_accuracy,\n",
    "    \"LSTM\": lstm_accuracy\n",
    "}\n",
    "\n",
    "# Debugging: print the accuracy dictionary\n",
    "print(\"Accuracies for plotting:\", accuracies)\n",
    "\n",
    "# Check if any value is None\n",
    "if any(value is None for value in accuracies.values()):\n",
    "    raise ValueError(\"One or more accuracy values are None. Ensure all models have computed accuracies.\")\n",
    "\n",
    "# Data extraction\n",
    "models = list(accuracies.keys())\n",
    "accuracy_values = [v[1] for v in accuracies.values()]  # Extract only accuracy (second value)\n",
    "\n",
    "# Plot Comparison\n",
    "plt.figure(figsize=(8, 6))\n",
    "plt.bar(models, accuracy_values, color=['magenta', 'beige', 'orange'])\n",
    "plt.xlabel('Model Type')\n",
    "plt.ylabel('Accuracy')\n",
    "plt.title('Model Accuracy Comparison')\n",
    "plt.show()\n"
   ],
   "id": "56b0af4913e3a990",
   "outputs": [
    {
     "name": "stdout",
     "output_type": "stream",
     "text": [
      "Accuracies for plotting: {'SimpleRNN': [2.3828659057617188, 0.3757791519165039], 'GRU': [1.5186711549758911, 0.6211041808128357], 'LSTM': [1.5742485523223877, 0.6099733114242554]}\n"
     ]
    },
    {
     "data": {
      "text/plain": [
       "<Figure size 800x600 with 1 Axes>"
      ],
      "image/png": "[encoded data removed]"
     },
     "metadata": {},
     "output_type": "display_data"
    }
   ],
   "execution_count": 11
  },
  {
   "metadata": {},
   "cell_type": "markdown",
   "source": "Problem 2 - (Advanced assignment) Comparison between multiple data sets",
   "id": "45e8d0bd523a108d"
  },
  {
   "metadata": {
    "ExecuteTime": {
     "end_time": "2024-12-20T14:37:17.344545Z",
     "start_time": "2024-12-20T14:31:09.158633Z"
    }
   },
   "cell_type": "code",
   "source": [
    "import numpy as np\n",
    "import tensorflow as tf\n",
    "from tensorflow.keras.models import Sequential\n",
    "from tensorflow.keras.layers import Embedding, SimpleRNN, GRU, LSTM, Dense, GlobalAveragePooling1D\n",
    "from tensorflow.keras.datasets import reuters\n",
    "from tensorflow.keras.preprocessing.sequence import pad_sequences\n",
    "from tensorflow.keras.utils import to_categorical\n",
    "import matplotlib.pyplot as plt\n",
    "\n",
    "# Load Reuters dataset\n",
    "max_features = 10000  # Use top 10k words\n",
    "maxlen = 100  # Limit each review to 100 words (document length)\n",
    "batch_size = 32\n",
    "\n",
    "(x_train, y_train), (x_test, y_test) = reuters.load_data(num_words=max_features)\n",
    "\n",
    "# Pad sequences to ensure uniform input size\n",
    "x_train = pad_sequences(x_train, maxlen=maxlen)\n",
    "x_test = pad_sequences(x_test, maxlen=maxlen)\n",
    "\n",
    "# Convert labels to categorical format (for multi-class classification)\n",
    "y_train = to_categorical(y_train)\n",
    "y_test = to_categorical(y_test)\n",
    "\n",
    "# Define Model Architectures\n",
    "\n",
    "def create_simple_rnn_model():\n",
    "    model = Sequential()\n",
    "    model.add(Embedding(max_features, 128, input_length=maxlen))\n",
    "    model.add(SimpleRNN(128, activation='tanh'))\n",
    "    model.add(Dense(46, activation='softmax'))  # 46 classes in Reuters dataset\n",
    "    model.compile(optimizer='adam', loss='categorical_crossentropy', metrics=['accuracy'])\n",
    "    return model\n",
    "\n",
    "def create_gru_model():\n",
    "    model = Sequential()\n",
    "    model.add(Embedding(max_features, 128, input_length=maxlen))\n",
    "    model.add(GRU(128, activation='tanh'))\n",
    "    model.add(Dense(46, activation='softmax'))  # 46 classes in Reuters dataset\n",
    "    model.compile(optimizer='adam', loss='categorical_crossentropy', metrics=['accuracy'])\n",
    "    return model\n",
    "\n",
    "def create_lstm_model():\n",
    "    model = Sequential()\n",
    "    model.add(Embedding(max_features, 128, input_length=maxlen))\n",
    "    model.add(LSTM(128, activation='tanh'))\n",
    "    model.add(Dense(46, activation='softmax'))  # 46 classes in Reuters dataset\n",
    "    model.compile(optimizer='adam', loss='categorical_crossentropy', metrics=['accuracy'])\n",
    "    return model\n",
    "\n",
    "# Train and Evaluate Models\n",
    "\n",
    "def train_and_evaluate_model(model, x_train, y_train, x_test, y_test, epochs=3):\n",
    "    model.fit(x_train, y_train, epochs=epochs, batch_size=batch_size, validation_data=(x_test, y_test))\n",
    "    return model.evaluate(x_test, y_test)[1]  # return accuracy\n",
    "\n",
    "# Create Models\n",
    "simple_rnn_model = create_simple_rnn_model()\n",
    "gru_model = create_gru_model()\n",
    "lstm_model = create_lstm_model()\n",
    "\n",
    "# Train and evaluate each model\n",
    "simple_rnn_accuracy = train_and_evaluate_model(simple_rnn_model, x_train, y_train, x_test, y_test)\n",
    "gru_accuracy = train_and_evaluate_model(gru_model, x_train, y_train, x_test, y_test)\n",
    "lstm_accuracy = train_and_evaluate_model(lstm_model, x_train, y_train, x_test, y_test)\n"
   ],
   "id": "ff7e87f619bc0830",
   "outputs": [
    {
     "name": "stdout",
     "output_type": "stream",
     "text": [
      "Epoch 1/3\n",
      "\u001B[1m281/281\u001B[0m \u001B[32m━━━━━━━━━━━━━━━━━━━━\u001B[0m\u001B[37m\u001B[0m \u001B[1m23s\u001B[0m 72ms/step - accuracy: 0.3652 - loss: 2.4610 - val_accuracy: 0.4261 - val_loss: 2.1641\n",
      "Epoch 2/3\n",
      "\u001B[1m281/281\u001B[0m \u001B[32m━━━━━━━━━━━━━━━━━━━━\u001B[0m\u001B[37m\u001B[0m \u001B[1m19s\u001B[0m 69ms/step - accuracy: 0.5065 - loss: 1.9435 - val_accuracy: 0.4488 - val_loss: 2.0999\n",
      "Epoch 3/3\n",
      "\u001B[1m281/281\u001B[0m \u001B[32m━━━━━━━━━━━━━━━━━━━━\u001B[0m\u001B[37m\u001B[0m \u001B[1m21s\u001B[0m 76ms/step - accuracy: 0.6403 - loss: 1.4280 - val_accuracy: 0.4693 - val_loss: 2.0467\n",
      "\u001B[1m71/71\u001B[0m \u001B[32m━━━━━━━━━━━━━━━━━━━━\u001B[0m\u001B[37m\u001B[0m \u001B[1m1s\u001B[0m 14ms/step - accuracy: 0.4726 - loss: 2.0096\n",
      "Epoch 1/3\n",
      "\u001B[1m281/281\u001B[0m \u001B[32m━━━━━━━━━━━━━━━━━━━━\u001B[0m\u001B[37m\u001B[0m \u001B[1m52s\u001B[0m 166ms/step - accuracy: 0.3898 - loss: 2.4667 - val_accuracy: 0.5236 - val_loss: 1.7738\n",
      "Epoch 2/3\n",
      "\u001B[1m281/281\u001B[0m \u001B[32m━━━━━━━━━━━━━━━━━━━━\u001B[0m\u001B[37m\u001B[0m \u001B[1m76s\u001B[0m 142ms/step - accuracy: 0.5706 - loss: 1.6611 - val_accuracy: 0.5922 - val_loss: 1.6708\n",
      "Epoch 3/3\n",
      "\u001B[1m281/281\u001B[0m \u001B[32m━━━━━━━━━━━━━━━━━━━━\u001B[0m\u001B[37m\u001B[0m \u001B[1m37s\u001B[0m 130ms/step - accuracy: 0.6420 - loss: 1.4197 - val_accuracy: 0.6282 - val_loss: 1.4823\n",
      "\u001B[1m71/71\u001B[0m \u001B[32m━━━━━━━━━━━━━━━━━━━━\u001B[0m\u001B[37m\u001B[0m \u001B[1m2s\u001B[0m 29ms/step - accuracy: 0.6352 - loss: 1.4608\n",
      "Epoch 1/3\n",
      "\u001B[1m281/281\u001B[0m \u001B[32m━━━━━━━━━━━━━━━━━━━━\u001B[0m\u001B[37m\u001B[0m \u001B[1m47s\u001B[0m 154ms/step - accuracy: 0.3897 - loss: 2.4971 - val_accuracy: 0.5214 - val_loss: 1.8333\n",
      "Epoch 2/3\n",
      "\u001B[1m281/281\u001B[0m \u001B[32m━━━━━━━━━━━━━━━━━━━━\u001B[0m\u001B[37m\u001B[0m \u001B[1m42s\u001B[0m 150ms/step - accuracy: 0.5333 - loss: 1.7567 - val_accuracy: 0.5922 - val_loss: 1.6346\n",
      "Epoch 3/3\n",
      "\u001B[1m281/281\u001B[0m \u001B[32m━━━━━━━━━━━━━━━━━━━━\u001B[0m\u001B[37m\u001B[0m \u001B[1m44s\u001B[0m 155ms/step - accuracy: 0.6171 - loss: 1.4579 - val_accuracy: 0.6291 - val_loss: 1.5272\n",
      "\u001B[1m71/71\u001B[0m \u001B[32m━━━━━━━━━━━━━━━━━━━━\u001B[0m\u001B[37m\u001B[0m \u001B[1m3s\u001B[0m 42ms/step - accuracy: 0.6393 - loss: 1.4914\n"
     ]
    }
   ],
   "execution_count": 13
  },
  {
   "metadata": {
    "ExecuteTime": {
     "end_time": "2024-12-20T14:39:07.127545Z",
     "start_time": "2024-12-20T14:39:06.890623Z"
    }
   },
   "cell_type": "code",
   "source": [
    "# Storing accuracies for plotting\n",
    "accuracies = {\n",
    "    \"SimpleRNN\": simple_rnn_accuracy,\n",
    "    \"GRU\": gru_accuracy,\n",
    "    \"LSTM\": lstm_accuracy\n",
    "}\n",
    "\n",
    "# Plot Comparison\n",
    "plt.figure(figsize=(8, 6))\n",
    "plt.bar(accuracies.keys(), accuracies.values(), color=['blue', 'yellow', 'magenta'])\n",
    "plt.xlabel('Model Type')\n",
    "plt.ylabel('Accuracy')\n",
    "plt.title('Model Accuracy Comparison: SimpleRNN vs GRU vs LSTM on Reuters Dataset')\n",
    "plt.ylim([0, 1])\n",
    "plt.show()\n",
    "\n",
    "# Print the results\n",
    "print(f\"SimpleRNN accuracy: {simple_rnn_accuracy:.4f}\")\n",
    "print(f\"GRU accuracy: {gru_accuracy:.4f}\")\n",
    "print(f\"LSTM accuracy: {lstm_accuracy:.4f}\")"
   ],
   "id": "e2e90f9ce141fbee",
   "outputs": [
    {
     "data": {
      "text/plain": [
       "<Figure size 800x600 with 1 Axes>"
      ],
      "image/png": "[encoded data removed]"
     },
     "metadata": {},
     "output_type": "display_data"
    },
    {
     "name": "stdout",
     "output_type": "stream",
     "text": [
      "SimpleRNN accuracy: 0.4693\n",
      "GRU accuracy: 0.6282\n",
      "LSTM accuracy: 0.6291\n"
     ]
    }
   ],
   "execution_count": 14
  },
  {
   "metadata": {},
   "cell_type": "markdown",
   "source": "Problem 3 - Explanation of other classes",
   "id": "d6f572a916a89065"
  },
  {
   "metadata": {},
   "cell_type": "code",
   "outputs": [],
   "execution_count": null,
   "source": [
    "# Define timesteps and features\n",
    "timesteps = 10   # Number of time steps\n",
    "features = 5     # Number of features per time step\n",
    "\n",
    "# RNN\n",
    "from tensorflow.keras.layers import RNN, SimpleRNNCell\n",
    "from tensorflow.keras.models import Sequential\n",
    "model = Sequential()\n",
    "model.add(RNN(SimpleRNNCell(64), input_shape=(timesteps, features)))\n",
    "\n",
    "# SimpleRNN Cell\n",
    "model = Sequential()\n",
    "model.add(RNN(SimpleRNNCell(64), input_shape=(timesteps, features)))\n",
    "\n",
    "# GRU Cell\n",
    "from tensorflow.keras.layers import GRUCell\n",
    "model = Sequential()\n",
    "model.add(RNN(GRUCell(64), input_shape=(timesteps, features)))\n",
    "\n",
    "# LSTM Cell\n",
    "from tensorflow.keras.layers import LSTMCell\n",
    "model = Sequential()\n",
    "model.add(RNN(LSTMCell(64), input_shape=(timesteps, features)))\n",
    "\n",
    "# StackedRNN Cells\n",
    "from tensorflow.keras.layers import StackedRNNCells\n",
    "cells = [SimpleRNNCell(64), SimpleRNNCell(64)]\n",
    "stacked_cells = StackedRNNCells(cells)\n",
    "model = Sequential()\n",
    "model.add(RNN(stacked_cells, input_shape=(timesteps, features)))\n",
    "\n",
    "# CuDNNGRU\n",
    "from tensorflow.keras.layers import GRU\n",
    "model = Sequential()\n",
    "model.add(GRU(64, input_shape=(timesteps, features)))\n",
    "\n",
    "# CuDNNLSTM\n",
    "from tensorflow.keras.layers import LSTM\n",
    "model = Sequential()\n",
    "model.add(LSTM(64, input_shape=(timesteps, features)))\n"
   ],
   "id": "2b41a140cc02633d"
  },
  {
   "metadata": {},
   "cell_type": "markdown",
   "source": [
    "Summary\n",
    "\n",
    "RNN: Typically used when you need to create a custom RNN layer by specifying the RNN cell.\n",
    "SimpleRNNCell, GRUCell, LSTMCell: Useful for custom RNN architectures, but rarely needed in practice since layers like SimpleRNN, GRU, and LSTM encapsulate these cells.\n",
    "\n",
    "StackedRNNCells: Used for stacking multiple RNN cells when you need a deep custom RNN architecture.\n",
    "\n",
    "CuDNNGRU and CuDNNLSTM: Use these if you have a GPU and want faster training times, especially for large models. Keras usually handles this automatically, so you don’t typically need to specify them manually unless you're optimizing for GPU performance.\n",
    "\n",
    "In practice, most people will rarely need to use SimpleRNNCell, GRUCell, LSTMCell, StackedRNNCells, or CuDNN layers directly. Instead, you'll typically work with high-level layers like SimpleRNN, GRU, and LSTM, as they abstract away the complexities and are easier to work with"
   ],
   "id": "a4f586944460d291"
  }
 ],
 "metadata": {
  "kernelspec": {
   "display_name": "Python 3",
   "language": "python",
   "name": "python3"
  },
  "language_info": {
   "codemirror_mode": {
    "name": "ipython",
    "version": 2
   },
   "file_extension": ".py",
   "mimetype": "text/x-python",
   "name": "python",
   "nbconvert_exporter": "python",
   "pygments_lexer": "ipython2",
   "version": "2.7.6"
  }
 },
 "nbformat": 4,
 "nbformat_minor": 5
}
